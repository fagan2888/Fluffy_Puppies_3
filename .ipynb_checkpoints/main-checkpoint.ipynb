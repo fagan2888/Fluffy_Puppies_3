{
 "cells": [
  {
   "cell_type": "code",
   "execution_count": 2,
   "metadata": {
    "collapsed": true
   },
   "outputs": [],
   "source": [
    "%matplotlib inline\n",
    "\n",
    "import pandas as pd\n",
    "import numpy as np\n",
    "import matplotlib.pyplot as plt"
   ]
  },
  {
   "cell_type": "code",
   "execution_count": 17,
   "metadata": {
    "collapsed": false
   },
   "outputs": [],
   "source": [
    "df_arm = pd.read_csv('ARM_perf_s-1.csv', header=None)\n",
    "df_fix = pd.read_csv('FIX_perf_s-2.csv',  header=None)\n",
    "\n",
    "df_discount_factors = pd.read_csv('Discount_Factors.csv')\n",
    "df_caplet_vols = pd.read_csv('Caplet_Vols.csv')\n",
    "df_mthly_10_yr_libor = pd.read_csv('Monthly_10_Year_LIBOR.csv')"
   ]
  },
  {
   "cell_type": "code",
   "execution_count": 18,
   "metadata": {
    "collapsed": true
   },
   "outputs": [],
   "source": [
    "start_date = '07/01/09' # except for LIBOR rates\n",
    "cap_rate = 0.0325\n",
    "short_rate = 0.0116"
   ]
  },
  {
   "cell_type": "code",
   "execution_count": 19,
   "metadata": {
    "collapsed": false
   },
   "outputs": [
    {
     "data": {
      "text/html": [
       "<div>\n",
       "<table border=\"1\" class=\"dataframe\">\n",
       "  <thead>\n",
       "    <tr style=\"text-align: right;\">\n",
       "      <th></th>\n",
       "      <th>0</th>\n",
       "      <th>1</th>\n",
       "      <th>2</th>\n",
       "      <th>3</th>\n",
       "      <th>4</th>\n",
       "      <th>5</th>\n",
       "      <th>6</th>\n",
       "      <th>7</th>\n",
       "      <th>8</th>\n",
       "    </tr>\n",
       "  </thead>\n",
       "  <tbody>\n",
       "    <tr>\n",
       "      <th>0</th>\n",
       "      <td>772583</td>\n",
       "      <td>1</td>\n",
       "      <td>0.53662</td>\n",
       "      <td>0.73255</td>\n",
       "      <td>0.84677</td>\n",
       "      <td>0.99621</td>\n",
       "      <td>0</td>\n",
       "      <td>0</td>\n",
       "      <td>0</td>\n",
       "    </tr>\n",
       "    <tr>\n",
       "      <th>1</th>\n",
       "      <td>772583</td>\n",
       "      <td>2</td>\n",
       "      <td>0.51414</td>\n",
       "      <td>0.71704</td>\n",
       "      <td>0.84268</td>\n",
       "      <td>0.99543</td>\n",
       "      <td>0</td>\n",
       "      <td>0</td>\n",
       "      <td>0</td>\n",
       "    </tr>\n",
       "    <tr>\n",
       "      <th>2</th>\n",
       "      <td>772583</td>\n",
       "      <td>3</td>\n",
       "      <td>0.50438</td>\n",
       "      <td>0.71020</td>\n",
       "      <td>0.83953</td>\n",
       "      <td>0.99465</td>\n",
       "      <td>0</td>\n",
       "      <td>0</td>\n",
       "      <td>0</td>\n",
       "    </tr>\n",
       "    <tr>\n",
       "      <th>3</th>\n",
       "      <td>772583</td>\n",
       "      <td>4</td>\n",
       "      <td>0.49397</td>\n",
       "      <td>0.70283</td>\n",
       "      <td>0.83648</td>\n",
       "      <td>0.99387</td>\n",
       "      <td>0</td>\n",
       "      <td>0</td>\n",
       "      <td>0</td>\n",
       "    </tr>\n",
       "    <tr>\n",
       "      <th>4</th>\n",
       "      <td>772583</td>\n",
       "      <td>5</td>\n",
       "      <td>0.48388</td>\n",
       "      <td>0.69561</td>\n",
       "      <td>0.83356</td>\n",
       "      <td>0.99308</td>\n",
       "      <td>1</td>\n",
       "      <td>0</td>\n",
       "      <td>0</td>\n",
       "    </tr>\n",
       "  </tbody>\n",
       "</table>\n",
       "</div>"
      ],
      "text/plain": [
       "        0  1        2        3        4        5  6  7  8\n",
       "0  772583  1  0.53662  0.73255  0.84677  0.99621  0  0  0\n",
       "1  772583  2  0.51414  0.71704  0.84268  0.99543  0  0  0\n",
       "2  772583  3  0.50438  0.71020  0.83953  0.99465  0  0  0\n",
       "3  772583  4  0.49397  0.70283  0.83648  0.99387  0  0  0\n",
       "4  772583  5  0.48388  0.69561  0.83356  0.99308  1  0  0"
      ]
     },
     "execution_count": 19,
     "metadata": {},
     "output_type": "execute_result"
    }
   ],
   "source": [
    "df_arm.head()"
   ]
  },
  {
   "cell_type": "code",
   "execution_count": 20,
   "metadata": {
    "collapsed": false
   },
   "outputs": [
    {
     "data": {
      "text/html": [
       "<div>\n",
       "<table border=\"1\" class=\"dataframe\">\n",
       "  <thead>\n",
       "    <tr style=\"text-align: right;\">\n",
       "      <th></th>\n",
       "      <th>0</th>\n",
       "      <th>1</th>\n",
       "      <th>2</th>\n",
       "      <th>3</th>\n",
       "      <th>4</th>\n",
       "      <th>5</th>\n",
       "      <th>6</th>\n",
       "      <th>7</th>\n",
       "      <th>8</th>\n",
       "    </tr>\n",
       "  </thead>\n",
       "  <tbody>\n",
       "    <tr>\n",
       "      <th>0</th>\n",
       "      <td>772626</td>\n",
       "      <td>1</td>\n",
       "      <td>4.1311</td>\n",
       "      <td>2.0325</td>\n",
       "      <td>0.99863</td>\n",
       "      <td>0.99863</td>\n",
       "      <td>0</td>\n",
       "      <td>0</td>\n",
       "      <td>0</td>\n",
       "    </tr>\n",
       "    <tr>\n",
       "      <th>1</th>\n",
       "      <td>772626</td>\n",
       "      <td>2</td>\n",
       "      <td>3.8598</td>\n",
       "      <td>1.9646</td>\n",
       "      <td>0.99422</td>\n",
       "      <td>0.99828</td>\n",
       "      <td>0</td>\n",
       "      <td>0</td>\n",
       "      <td>0</td>\n",
       "    </tr>\n",
       "    <tr>\n",
       "      <th>2</th>\n",
       "      <td>772626</td>\n",
       "      <td>3</td>\n",
       "      <td>3.6143</td>\n",
       "      <td>1.9011</td>\n",
       "      <td>0.99093</td>\n",
       "      <td>0.99793</td>\n",
       "      <td>0</td>\n",
       "      <td>0</td>\n",
       "      <td>0</td>\n",
       "    </tr>\n",
       "    <tr>\n",
       "      <th>3</th>\n",
       "      <td>772626</td>\n",
       "      <td>4</td>\n",
       "      <td>3.2819</td>\n",
       "      <td>1.8116</td>\n",
       "      <td>0.98775</td>\n",
       "      <td>0.99757</td>\n",
       "      <td>0</td>\n",
       "      <td>0</td>\n",
       "      <td>0</td>\n",
       "    </tr>\n",
       "    <tr>\n",
       "      <th>4</th>\n",
       "      <td>772626</td>\n",
       "      <td>5</td>\n",
       "      <td>3.1549</td>\n",
       "      <td>1.7762</td>\n",
       "      <td>0.98473</td>\n",
       "      <td>0.99721</td>\n",
       "      <td>1</td>\n",
       "      <td>0</td>\n",
       "      <td>0</td>\n",
       "    </tr>\n",
       "  </tbody>\n",
       "</table>\n",
       "</div>"
      ],
      "text/plain": [
       "        0  1       2       3        4        5  6  7  8\n",
       "0  772626  1  4.1311  2.0325  0.99863  0.99863  0  0  0\n",
       "1  772626  2  3.8598  1.9646  0.99422  0.99828  0  0  0\n",
       "2  772626  3  3.6143  1.9011  0.99093  0.99793  0  0  0\n",
       "3  772626  4  3.2819  1.8116  0.98775  0.99757  0  0  0\n",
       "4  772626  5  3.1549  1.7762  0.98473  0.99721  1  0  0"
      ]
     },
     "execution_count": 20,
     "metadata": {},
     "output_type": "execute_result"
    }
   ],
   "source": [
    "df_fix.head()"
   ]
  },
  {
   "cell_type": "code",
   "execution_count": null,
   "metadata": {
    "collapsed": true
   },
   "outputs": [],
   "source": []
  }
 ],
 "metadata": {
  "kernelspec": {
   "display_name": "Python 3",
   "language": "python",
   "name": "python3"
  },
  "language_info": {
   "codemirror_mode": {
    "name": "ipython",
    "version": 3
   },
   "file_extension": ".py",
   "mimetype": "text/x-python",
   "name": "python",
   "nbconvert_exporter": "python",
   "pygments_lexer": "ipython3",
   "version": "3.4.3"
  }
 },
 "nbformat": 4,
 "nbformat_minor": 1
}
